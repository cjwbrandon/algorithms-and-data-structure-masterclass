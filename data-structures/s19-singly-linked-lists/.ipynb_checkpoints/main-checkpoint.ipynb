{
 "cells": [
  {
   "cell_type": "code",
   "execution_count": 24,
   "metadata": {},
   "outputs": [],
   "source": [
    "class Node:\n",
    "    def __init__(self, val):\n",
    "        self.val = val\n",
    "        self.next = None\n",
    "        \n",
    "    def get_val(self):\n",
    "        return self.val\n",
    "    \n",
    "    def get_next(self):\n",
    "        return self.next\n",
    "    \n",
    "    def set_next(self, new_next):\n",
    "        self.next = new_next"
   ]
  },
  {
   "cell_type": "code",
   "execution_count": 60,
   "metadata": {},
   "outputs": [],
   "source": [
    "class SinglyLinkedList:\n",
    "    def __init__(self, head=None):\n",
    "        self.head = None\n",
    "        self.tail = None\n",
    "        self.length = 0    \n",
    "        \n",
    "    def push(self, val):\n",
    "        new_node = Node(val)\n",
    "        if self.length <= 0:\n",
    "            self.head = self.tail = new_node\n",
    "        else:\n",
    "            self.tail.set_next(new_node)\n",
    "            self.tail = new_node\n",
    "        self.length += 1\n",
    "        \n",
    "        return self\n",
    "        \n",
    "    def pop(self):\n",
    "        if self.length <= 0:\n",
    "            return None\n",
    "        \n",
    "        prev_node = self.head\n",
    "        curr_node = self.head\n",
    "        \n",
    "        while curr_node != self.tail:\n",
    "            prev_node = curr_node\n",
    "            curr_node = curr_node.get_next()\n",
    "            \n",
    "        self.tail = prev_node\n",
    "        prev_node.set_next(None)\n",
    "        self.length -= 1\n",
    "        \n",
    "        if self.length == 0:\n",
    "            self.head = self.tail = None\n",
    "        \n",
    "        return curr_node\n",
    "    \n",
    "    def shift(self):\n",
    "        if self.length <= 0:\n",
    "            return None\n",
    "        \n",
    "        curr_head = self.head\n",
    "        self.head = curr_head.get_next()\n",
    "        self.length -= 1\n",
    "        if self.length == 0:\n",
    "            self.tail = None\n",
    "        \n",
    "        return curr_head\n",
    "    \n",
    "    def unshift(self, val):\n",
    "        new_node = Node(val)\n",
    "        \n",
    "        if self.length <= 0:\n",
    "            self.head = self.tail = new_node\n",
    "        else:\n",
    "            new_node.set_next(self.head)\n",
    "            self.head = new_node\n",
    "            \n",
    "        self.length += 1\n",
    "        \n",
    "        return self\n",
    "    \n",
    "    def get(self, idx):\n",
    "        if idx < 0 or idx >= self.length:\n",
    "            return None\n",
    "        \n",
    "        idx_node = self.head\n",
    "        for _ in range(idx):\n",
    "            idx_node = idx_node.get_next()\n",
    "        \n",
    "        return idx_node"
   ]
  },
  {
   "cell_type": "code",
   "execution_count": 61,
   "metadata": {},
   "outputs": [],
   "source": [
    "new_list = SinglyLinkedList()"
   ]
  },
  {
   "cell_type": "code",
   "execution_count": 62,
   "metadata": {},
   "outputs": [
    {
     "data": {
      "text/plain": [
       "<__main__.SinglyLinkedList at 0x7f07f02a1850>"
      ]
     },
     "execution_count": 62,
     "metadata": {},
     "output_type": "execute_result"
    }
   ],
   "source": [
    "new_list.push(1)\n",
    "new_list.push(2)\n",
    "new_list.push(3)"
   ]
  },
  {
   "cell_type": "code",
   "execution_count": 64,
   "metadata": {},
   "outputs": [
    {
     "data": {
      "text/plain": [
       "3"
      ]
     },
     "execution_count": 64,
     "metadata": {},
     "output_type": "execute_result"
    }
   ],
   "source": [
    "new_list.get(2).get_val()"
   ]
  },
  {
   "cell_type": "code",
   "execution_count": null,
   "metadata": {},
   "outputs": [],
   "source": []
  }
 ],
 "metadata": {
  "kernelspec": {
   "display_name": "Python 3",
   "language": "python",
   "name": "python3"
  },
  "language_info": {
   "codemirror_mode": {
    "name": "ipython",
    "version": 3
   },
   "file_extension": ".py",
   "mimetype": "text/x-python",
   "name": "python",
   "nbconvert_exporter": "python",
   "pygments_lexer": "ipython3",
   "version": "3.7.4"
  }
 },
 "nbformat": 4,
 "nbformat_minor": 2
}
